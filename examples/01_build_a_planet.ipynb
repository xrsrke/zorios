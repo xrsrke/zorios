{
 "cells": [
  {
   "cell_type": "code",
   "execution_count": null,
   "id": "eb084959-61fa-4022-99ff-9cc69a5b7c86",
   "metadata": {},
   "outputs": [],
   "source": [
    "from sympy.physics.vector import Point, ReferenceFrame, dynamicsymbols\n",
    "\n",
    "from zorios.core import *\n",
    "from zorios.object import PlanetFactory"
   ]
  },
  {
   "cell_type": "markdown",
   "id": "f3d63335-da99-493b-a148-70e8ff9f1d4c",
   "metadata": {},
   "source": [
    "### Earth"
   ]
  },
  {
   "cell_type": "code",
   "execution_count": null,
   "id": "f50ce142-230a-4eaa-b9ba-7e80723cb9a6",
   "metadata": {},
   "outputs": [],
   "source": [
    "earth = PlanetFactory().new_earth()"
   ]
  },
  {
   "cell_type": "code",
   "execution_count": null,
   "id": "7e9d889d-7494-4cec-82f6-ae816bee491c",
   "metadata": {},
   "outputs": [
    {
     "data": {
      "text/plain": [
       "{'mass': 5.9736e+24 <Unit('kilogram')>,\n",
       " 'shape': <zorios.object.Sphere>}"
      ]
     },
     "execution_count": null,
     "metadata": {},
     "output_type": "execute_result"
    }
   ],
   "source": [
    "earth.__dict__"
   ]
  },
  {
   "cell_type": "code",
   "execution_count": null,
   "id": "fd99dbd6-7fa8-4c9e-a8ba-9f185ab727f8",
   "metadata": {},
   "outputs": [],
   "source": [
    "N = ReferenceFrame('N')"
   ]
  },
  {
   "cell_type": "code",
   "execution_count": null,
   "id": "4b5f8d14-9a11-4601-8607-187533726bc5",
   "metadata": {},
   "outputs": [],
   "source": [
    "p1 = Point('p1')"
   ]
  },
  {
   "cell_type": "code",
   "execution_count": null,
   "id": "ec9ae934-e05c-46eb-aba7-88c36a516ffb",
   "metadata": {},
   "outputs": [],
   "source": [
    "p2 = Point('p2')"
   ]
  },
  {
   "cell_type": "code",
   "execution_count": null,
   "id": "3e5d8c5b-e6ed-4c98-a589-7e5a82a7482d",
   "metadata": {},
   "outputs": [],
   "source": [
    "p1.set_pos(p2, 10 * N.x)"
   ]
  },
  {
   "cell_type": "code",
   "execution_count": null,
   "id": "e355ace1-bd1f-47a4-9719-1bbd84c82be7",
   "metadata": {},
   "outputs": [
    {
     "data": {
      "text/latex": [
       "$\\displaystyle 10\\mathbf{\\hat{n}_x}$"
      ],
      "text/plain": [
       "10*N.x"
      ]
     },
     "execution_count": null,
     "metadata": {},
     "output_type": "execute_result"
    }
   ],
   "source": [
    "p1.pos_from(p2)"
   ]
  }
 ],
 "metadata": {
  "kernelspec": {
   "display_name": "Python 3 (ipykernel)",
   "language": "python",
   "name": "python3"
  },
  "language_info": {
   "name": ""
  }
 },
 "nbformat": 4,
 "nbformat_minor": 5
}
