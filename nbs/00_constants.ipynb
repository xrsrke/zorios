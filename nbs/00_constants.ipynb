{
 "cells": [
  {
   "cell_type": "markdown",
   "id": "21d64c65-0b6b-4421-9856-4eed2fc7cf29",
   "metadata": {},
   "source": [
    "# constants\n",
    "\n",
    "> Fill in a module description here"
   ]
  },
  {
   "cell_type": "code",
   "execution_count": null,
   "id": "5c29a991-ce91-4adb-a634-8c037e93ef23",
   "metadata": {},
   "outputs": [],
   "source": [
    "#| default_exp constants"
   ]
  },
  {
   "cell_type": "code",
   "execution_count": null,
   "id": "9aaf432a-fe6c-4e7f-a9e2-44930351cd77",
   "metadata": {},
   "outputs": [],
   "source": [
    "#| hide\n",
    "from nbdev.showdoc import *"
   ]
  },
  {
   "cell_type": "code",
   "execution_count": null,
   "id": "41ee43a1-08ab-4445-ab24-a785ad395473",
   "metadata": {},
   "outputs": [],
   "source": [
    "#| hide\n",
    "import nbdev; nbdev.nbdev_export()"
   ]
  },
  {
   "cell_type": "code",
   "execution_count": null,
   "id": "3947a669-7a0d-4298-8070-6dc938170cfd",
   "metadata": {},
   "outputs": [],
   "source": [
    "#| export\n",
    "from fastcore.test import test_eq\n",
    "from zorios.core import *"
   ]
  },
  {
   "cell_type": "markdown",
   "id": "244add61-94b9-44ac-8d18-426efd507ef5",
   "metadata": {},
   "source": [
    "### Universal Constants"
   ]
  },
  {
   "cell_type": "code",
   "execution_count": null,
   "id": "eeba9cdd-4bbb-427c-b839-e1b086d3bebf",
   "metadata": {},
   "outputs": [],
   "source": [
    "#| export\n",
    "GRAVITATIONAL_CONSTANT = Q(6.6743e-11, '(m^3)/(kg * s^2)')"
   ]
  },
  {
   "cell_type": "markdown",
   "id": "bd1134da-bd35-4a53-96cd-8f7bb0926a3f",
   "metadata": {},
   "source": [
    "### Planets & Stars"
   ]
  },
  {
   "cell_type": "markdown",
   "id": "4c1f3171-8564-4e39-9447-5bf2bf705086",
   "metadata": {},
   "source": [
    "##### Earth"
   ]
  },
  {
   "cell_type": "code",
   "execution_count": null,
   "id": "dd0f77d3-bd75-48dd-9ca3-e205cd9dd160",
   "metadata": {},
   "outputs": [],
   "source": [
    "#| export\n",
    "EARTH_MASS = Q(5.9736e24, 'kilogram').to(Unit.MASS)\n",
    "EARTH_RADIUS = Q(6371, 'kilometer').to(Unit.LENGTH)\n",
    "EARTH_GRAVITY = Q(9.807, 'meter/(second^2)').to(Unit.ACCELERATION)"
   ]
  },
  {
   "cell_type": "markdown",
   "id": "33ceb11d-35e1-4c7f-9593-fa4275063437",
   "metadata": {},
   "source": [
    "##### Mars"
   ]
  },
  {
   "cell_type": "code",
   "execution_count": null,
   "id": "95be212e-0812-4bad-9757-fe1ee46eb956",
   "metadata": {},
   "outputs": [],
   "source": [
    "#| export\n",
    "MARS_MASS = Q(6.39e23, 'kilogram').to(Unit.MASS)\n",
    "MARS_RADIUS = Q(3389.5, 'kilometer').to(Unit.LENGTH)\n",
    "MARS_GRAVITY = Q(3.721, 'meter/(second^2)').to(Unit.ACCELERATION)"
   ]
  },
  {
   "cell_type": "markdown",
   "id": "a80e8b31-c6a2-4b91-a4ba-877bbd375ff4",
   "metadata": {},
   "source": [
    "##### Moon"
   ]
  },
  {
   "cell_type": "code",
   "execution_count": null,
   "id": "6f311571-33f1-450e-a9f5-5e24d7731e64",
   "metadata": {},
   "outputs": [],
   "source": [
    "#| export\n",
    "MOON_MASS = Q(7.34767309e22, 'kilogram').to(Unit.MASS)\n",
    "MOON_RADIUS = Q(1737.4, 'kilometer').to(Unit.LENGTH)\n",
    "MOON_GRAVITY = Q(1.62, 'meter/(second^2)').to(Unit.ACCELERATION)"
   ]
  }
 ],
 "metadata": {
  "kernelspec": {
   "display_name": "Python 3 (ipykernel)",
   "language": "python",
   "name": "python3"
  }
 },
 "nbformat": 4,
 "nbformat_minor": 5
}
