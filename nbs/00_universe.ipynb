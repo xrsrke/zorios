{
 "cells": [
  {
   "cell_type": "markdown",
   "id": "b80d0c2e-7212-422e-9486-10ede6f8efdb",
   "metadata": {},
   "source": [
    "# Universe\n",
    "\n",
    "> Fill in a module description here"
   ]
  },
  {
   "cell_type": "code",
   "execution_count": null,
   "id": "65c34e35-85e0-437b-8c69-84e68f646b3b",
   "metadata": {},
   "outputs": [],
   "source": [
    "#| default_exp universe"
   ]
  },
  {
   "cell_type": "code",
   "execution_count": null,
   "id": "7315ee16-c08a-4844-8b70-03e2c43a1ff3",
   "metadata": {},
   "outputs": [],
   "source": [
    "#| hide\n",
    "from nbdev.showdoc import *"
   ]
  },
  {
   "cell_type": "code",
   "execution_count": null,
   "id": "8b9d4d01-84d7-4573-b4a0-394a395421c9",
   "metadata": {},
   "outputs": [],
   "source": [
    "#| hide\n",
    "import nbdev; nbdev.nbdev_export()"
   ]
  },
  {
   "cell_type": "code",
   "execution_count": null,
   "id": "6f59f00b-4202-4704-b3f0-ae9a83fb89b2",
   "metadata": {},
   "outputs": [],
   "source": [
    "#| export\n",
    "import pandas as pd\n",
    "from zorios.core import *"
   ]
  },
  {
   "cell_type": "markdown",
   "id": "696d2eda-d947-48b1-9648-c4fb2c42e4b7",
   "metadata": {},
   "source": [
    "Logs\n",
    "- Changing in kinetic energy and potential energy"
   ]
  },
  {
   "cell_type": "code",
   "execution_count": null,
   "id": "bb86b3bf-e5cf-4b7a-bf14-6ce1433f7eee",
   "metadata": {},
   "outputs": [],
   "source": [
    "#| export\n",
    "class Universe:\n",
    "    def __init__(self, initial_energy):\n",
    "        self.initial_energy = initial_energy"
   ]
  },
  {
   "cell_type": "code",
   "execution_count": null,
   "id": "c57e782e-1d75-429a-923d-f4133cc73a30",
   "metadata": {},
   "outputs": [],
   "source": []
  }
 ],
 "metadata": {
  "kernelspec": {
   "display_name": "Python 3 (ipykernel)",
   "language": "python",
   "name": "python3"
  }
 },
 "nbformat": 4,
 "nbformat_minor": 5
}
