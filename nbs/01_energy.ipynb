{
 "cells": [
  {
   "cell_type": "markdown",
   "id": "ca782ab5-1018-43f1-afc3-55271ea0711a",
   "metadata": {},
   "source": [
    "# Energy\n",
    "\n",
    "> Fill in a module description here"
   ]
  },
  {
   "cell_type": "code",
   "execution_count": null,
   "id": "da967f7f-6cf4-4505-b7a6-1f8f5eced446",
   "metadata": {},
   "outputs": [],
   "source": [
    "#| default_exp energy"
   ]
  },
  {
   "cell_type": "code",
   "execution_count": null,
   "id": "b8892000-65af-468e-a325-e0a05af48b75",
   "metadata": {},
   "outputs": [],
   "source": [
    "#| hide\n",
    "from nbdev.showdoc import *"
   ]
  },
  {
   "cell_type": "code",
   "execution_count": null,
   "id": "67fe23e6-019e-4c43-aa93-87d943c8c8fc",
   "metadata": {},
   "outputs": [],
   "source": [
    "#| hide\n",
    "import nbdev; nbdev.nbdev_export()"
   ]
  },
  {
   "cell_type": "code",
   "execution_count": null,
   "id": "db94dcf0-8f35-4566-a880-26d9d60535bb",
   "metadata": {},
   "outputs": [
    {
     "ename": "ModuleNotFoundError",
     "evalue": "No module named 'zorios'",
     "output_type": "error",
     "traceback": [
      "\u001b[0;31m---------------------------------------------------------------------------\u001b[0m",
      "\u001b[0;31mModuleNotFoundError\u001b[0m                       Traceback (most recent call last)",
      "Input \u001b[0;32mIn [4]\u001b[0m, in \u001b[0;36m<cell line: 4>\u001b[0;34m()\u001b[0m\n\u001b[1;32m      1\u001b[0m \u001b[38;5;66;03m#| export\u001b[39;00m\n\u001b[1;32m      2\u001b[0m \u001b[38;5;28;01mimport\u001b[39;00m \u001b[38;5;21;01msympy\u001b[39;00m \u001b[38;5;28;01mas\u001b[39;00m \u001b[38;5;21;01msmp\u001b[39;00m\n\u001b[0;32m----> 4\u001b[0m \u001b[38;5;28;01mfrom\u001b[39;00m \u001b[38;5;21;01mzorios\u001b[39;00m\u001b[38;5;21;01m.\u001b[39;00m\u001b[38;5;21;01mcore\u001b[39;00m \u001b[38;5;28;01mimport\u001b[39;00m \u001b[38;5;241m*\u001b[39m\n",
      "\u001b[0;31mModuleNotFoundError\u001b[0m: No module named 'zorios'"
     ]
    }
   ],
   "source": [
    "#| export\n",
    "import sympy as smp\n",
    "\n",
    "from zorios.core import *"
   ]
  },
  {
   "cell_type": "markdown",
   "id": "82f51e0c-4e40-4f70-a217-848e96f2d057",
   "metadata": {},
   "source": [
    "### Energy"
   ]
  },
  {
   "cell_type": "markdown",
   "id": "95c3c9c3-50ad-49ac-8c55-173216e18985",
   "metadata": {},
   "source": [
    "Axioms in universe\n",
    "- Conservation of energy\n",
    "- Conservation of mass\n",
    "- Conservation of momentum"
   ]
  },
  {
   "cell_type": "markdown",
   "id": "f9d7944a-d7c4-4bac-98f4-6b34f91637fe",
   "metadata": {},
   "source": [
    "### Work"
   ]
  },
  {
   "cell_type": "markdown",
   "id": "f50c563f-d4c6-4965-8173-d51b65e246c0",
   "metadata": {},
   "source": [
    "Work is an amount of energy a force takes to move an object"
   ]
  },
  {
   "cell_type": "code",
   "execution_count": null,
   "id": "e42341c3-93c1-47b1-a623-80f73ed01cb8",
   "metadata": {},
   "outputs": [],
   "source": [
    "#| export\n",
    "class Work:\n",
    "    def magnitude(\n",
    "        self,\n",
    "        initial_position, # initial position of the object\n",
    "        final_position, # final position of the object\n",
    "        force, # the force that do work on the object\n",
    "        path # the path the object taken by the force\n",
    "    ):\n",
    "        pass"
   ]
  },
  {
   "cell_type": "markdown",
   "id": "fb3ef692-12ce-4c1c-9fc4-b7de2ae1863a",
   "metadata": {},
   "source": [
    "### Power"
   ]
  },
  {
   "cell_type": "code",
   "execution_count": null,
   "id": "16be5621-5988-4512-8954-3f351963a866",
   "metadata": {},
   "outputs": [],
   "source": [
    "#| export\n",
    "class Power:\n",
    "    def magnitude(self, work):\n",
    "        pass"
   ]
  },
  {
   "cell_type": "markdown",
   "id": "45b14c0f-27d7-4b0d-b4fe-5e910da2264e",
   "metadata": {},
   "source": [
    "### Kinetic Energy"
   ]
  },
  {
   "cell_type": "code",
   "execution_count": null,
   "id": "eda9fd15-ae5f-45aa-b4e2-5b69de743ca8",
   "metadata": {},
   "outputs": [],
   "source": [
    "#| export\n",
    "class KineticEnergy:\n",
    "    def magnitude(\n",
    "        self,\n",
    "        mass, # mass of the object\n",
    "        velocity # velocity of the object\n",
    "    ):\n",
    "        mass = mass.to(Unit.MASS)\n",
    "        velocity = velocity.to(Unit.VELOCITY)\n",
    "        \n",
    "        return (1/2) * mass * velocity"
   ]
  },
  {
   "cell_type": "code",
   "execution_count": null,
   "id": "6ab6281c-89bc-44d6-bcdd-aafedc52e329",
   "metadata": {},
   "outputs": [],
   "source": [
    "mass, velocity = smp.symbols('m v', real=True, positive=True)"
   ]
  },
  {
   "cell_type": "code",
   "execution_count": null,
   "id": "3ea08eba-b547-45bb-b5a3-210b329b2ce8",
   "metadata": {},
   "outputs": [],
   "source": [
    "name = \"block\""
   ]
  },
  {
   "cell_type": "code",
   "execution_count": null,
   "id": "029f2e32-f865-4555-b288-830ce2426d1e",
   "metadata": {},
   "outputs": [],
   "source": [
    "mass1, velocity1 = smp.symbols(f'm_{name} v', real=True, positive=True)"
   ]
  },
  {
   "cell_type": "code",
   "execution_count": null,
   "id": "dfb54913-ce4e-46e9-9e0f-2755725d59d6",
   "metadata": {},
   "outputs": [
    {
     "data": {
      "text/latex": [
       "$\\displaystyle m_{block}$"
      ],
      "text/plain": [
       "m_block"
      ]
     },
     "execution_count": null,
     "metadata": {},
     "output_type": "execute_result"
    }
   ],
   "source": [
    "mass1"
   ]
  },
  {
   "cell_type": "code",
   "execution_count": null,
   "id": "ddafccdb-9e68-4e09-9127-1948aa841f35",
   "metadata": {},
   "outputs": [],
   "source": [
    "mass2, velocity2 = smp.symbols('m_2 v', real=True, positive=True)"
   ]
  },
  {
   "cell_type": "code",
   "execution_count": null,
   "id": "1106ea19-a4bc-41f0-846e-4262536c4cb4",
   "metadata": {},
   "outputs": [],
   "source": [
    "def kinetic_energy(mass, velocity):\n",
    "    \n",
    "    return smp.Rational(1, 2) * mass * (velocity**2)"
   ]
  },
  {
   "cell_type": "code",
   "execution_count": null,
   "id": "b5cf6836-2825-4e84-be5f-8ccd711733df",
   "metadata": {},
   "outputs": [],
   "source": [
    "k1 = kinetic_energy(mass1, velocity1)"
   ]
  },
  {
   "cell_type": "code",
   "execution_count": null,
   "id": "04f8dfa6-88b3-4b2a-b6da-d65157f3ef07",
   "metadata": {},
   "outputs": [],
   "source": [
    "k2 = kinetic_energy(mass2, velocity2)"
   ]
  },
  {
   "cell_type": "code",
   "execution_count": null,
   "id": "e5334533-7596-4b11-a1a3-3a8df77dfb03",
   "metadata": {},
   "outputs": [],
   "source": [
    "def work(initial_kinetic_energy, final_kinetic_energy):\n",
    "    return initial_kinetic_energy - final_kinetic_energy"
   ]
  },
  {
   "cell_type": "code",
   "execution_count": null,
   "id": "71a33c38-a10b-47ad-96e4-a8b202a6209e",
   "metadata": {},
   "outputs": [
    {
     "data": {
      "text/latex": [
       "$\\displaystyle - \\frac{m_{2} v^{2}}{2} + \\frac{m_{block} v^{2}}{2}$"
      ],
      "text/plain": [
       "-m_2*v**2/2 + m_block*v**2/2"
      ]
     },
     "execution_count": null,
     "metadata": {},
     "output_type": "execute_result"
    }
   ],
   "source": [
    "work(k1, k2)"
   ]
  },
  {
   "cell_type": "code",
   "execution_count": null,
   "id": "73d15f2d-a689-4321-9e6b-514a97c979f1",
   "metadata": {},
   "outputs": [
    {
     "data": {
      "text/latex": [
       "$\\displaystyle - \\frac{m_{2} v^{2}}{2} + \\frac{m_{block} v^{2}}{2}$"
      ],
      "text/plain": [
       "-m_2*v**2/2 + m_block*v**2/2"
      ]
     },
     "execution_count": null,
     "metadata": {},
     "output_type": "execute_result"
    }
   ],
   "source": [
    "work(k1, k2)"
   ]
  },
  {
   "cell_type": "markdown",
   "id": "c7862991-165d-4345-82ce-0ee88e49a6bf",
   "metadata": {},
   "source": [
    "### Potential Energy"
   ]
  },
  {
   "cell_type": "markdown",
   "id": "1058be38-a05f-4e89-b259-f7f807d0f7df",
   "metadata": {},
   "source": [
    "Potential energy is the stored energy of an object relative to a position."
   ]
  },
  {
   "cell_type": "markdown",
   "id": "0fe6e5e4-dca1-4aa2-bc05-1c42e4490723",
   "metadata": {},
   "source": [
    "The force: $\\vec{F}=-\\vec{\\nabla} U$"
   ]
  },
  {
   "cell_type": "code",
   "execution_count": null,
   "id": "195c0094-0b8c-4088-9940-9261d31482a2",
   "metadata": {},
   "outputs": [],
   "source": []
  },
  {
   "cell_type": "code",
   "execution_count": null,
   "id": "a241fa78-94fa-4eb5-a9fe-f278dfe5f74c",
   "metadata": {},
   "outputs": [],
   "source": [
    "#| export\n",
    "class PotentialEnergy:\n",
    "    pass"
   ]
  }
 ],
 "metadata": {
  "kernelspec": {
   "display_name": "Python 3 (ipykernel)",
   "language": "python",
   "name": "python3"
  }
 },
 "nbformat": 4,
 "nbformat_minor": 5
}
