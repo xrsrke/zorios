{
 "cells": [
  {
   "cell_type": "markdown",
   "id": "38f7cf30-215d-4852-946c-bba9faa38bc3",
   "metadata": {},
   "source": [
    "# Force\n",
    "\n",
    "> Fill in a module description here"
   ]
  },
  {
   "cell_type": "code",
   "execution_count": null,
   "id": "d1beb369-074e-45bd-ae5a-ceb7070aa9f2",
   "metadata": {},
   "outputs": [],
   "source": [
    "#| default_exp force"
   ]
  },
  {
   "cell_type": "code",
   "execution_count": null,
   "id": "27a3cb37-189a-4856-b99e-16924bdea6d0",
   "metadata": {},
   "outputs": [],
   "source": [
    "#| hide\n",
    "from nbdev.showdoc import *"
   ]
  },
  {
   "cell_type": "code",
   "execution_count": null,
   "id": "599aa81d-b086-4afa-a18a-f337957613a1",
   "metadata": {},
   "outputs": [],
   "source": [
    "#| hide\n",
    "import nbdev; nbdev.nbdev_export()"
   ]
  },
  {
   "cell_type": "code",
   "execution_count": null,
   "id": "7fc5d4a4-72de-4a8d-9ade-c93095a24f81",
   "metadata": {},
   "outputs": [],
   "source": [
    "class Force:\n",
    "    pass"
   ]
  },
  {
   "cell_type": "code",
   "execution_count": null,
   "id": "36c1e3f6-91dd-40c2-97e0-98ff6bac68f9",
   "metadata": {},
   "outputs": [],
   "source": []
  }
 ],
 "metadata": {
  "kernelspec": {
   "display_name": "Python 3 (ipykernel)",
   "language": "python",
   "name": "python3"
  }
 },
 "nbformat": 4,
 "nbformat_minor": 5
}
