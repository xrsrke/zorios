{
 "cells": [
  {
   "cell_type": "markdown",
   "id": "38f7cf30-215d-4852-946c-bba9faa38bc3",
   "metadata": {},
   "source": [
    "# Force\n",
    "\n",
    "> Fill in a module description here"
   ]
  },
  {
   "cell_type": "code",
   "execution_count": null,
   "id": "d1beb369-074e-45bd-ae5a-ceb7070aa9f2",
   "metadata": {},
   "outputs": [],
   "source": [
    "#| default_exp force"
   ]
  },
  {
   "cell_type": "code",
   "execution_count": null,
   "id": "27a3cb37-189a-4856-b99e-16924bdea6d0",
   "metadata": {},
   "outputs": [],
   "source": [
    "#| hide\n",
    "from nbdev.showdoc import *"
   ]
  },
  {
   "cell_type": "code",
   "execution_count": null,
   "id": "55c4cffc-bea2-4917-8118-02cde1efca9e",
   "metadata": {},
   "outputs": [],
   "source": [
    "#| export\n",
    "import pandas as pd\n",
    "import numpy as np\n",
    "import sympy as smp\n",
    "\n",
    "from zorios.core import *\n",
    "from zorios.object import BuildSphere\n",
    "from zorios import constants"
   ]
  },
  {
   "cell_type": "code",
   "execution_count": null,
   "id": "599aa81d-b086-4afa-a18a-f337957613a1",
   "metadata": {},
   "outputs": [],
   "source": [
    "#| hide\n",
    "import nbdev; nbdev.nbdev_export()"
   ]
  },
  {
   "cell_type": "code",
   "execution_count": null,
   "id": "7fc5d4a4-72de-4a8d-9ade-c93095a24f81",
   "metadata": {},
   "outputs": [],
   "source": [
    "#| export\n",
    "class Force:\n",
    "    pass"
   ]
  },
  {
   "cell_type": "code",
   "execution_count": null,
   "id": "36c1e3f6-91dd-40c2-97e0-98ff6bac68f9",
   "metadata": {},
   "outputs": [
    {
     "data": {
      "text/plain": [
       "u1'*N.x + u2'*N.y + u3'*N.z"
      ]
     },
     "execution_count": null,
     "metadata": {},
     "output_type": "execute_result"
    }
   ],
   "source": [
    "from sympy.physics.vector import Point, ReferenceFrame, dynamicsymbols\n",
    "from sympy.physics.vector import init_vprinting\n",
    "init_vprinting(pretty_print=False)\n",
    "N = ReferenceFrame('N')\n",
    "O = Point('O')\n",
    "P = Point('P')\n",
    "u1, u2, u3 = dynamicsymbols('u1 u2 u3')\n",
    "O.set_vel(N, u1 * N.x + u2 * N.y + u3 * N.z)\n",
    "O.acc(N)"
   ]
  },
  {
   "cell_type": "code",
   "execution_count": null,
   "id": "c752b241-a561-4303-a1e9-f14c75f10789",
   "metadata": {},
   "outputs": [
    {
     "data": {
      "text/plain": [
       "10*N.x"
      ]
     },
     "execution_count": null,
     "metadata": {},
     "output_type": "execute_result"
    }
   ],
   "source": [
    "from sympy.physics.vector import Point, ReferenceFrame\n",
    "N = ReferenceFrame('N')\n",
    "p1 = Point('p1')\n",
    "p2 = Point('p2')\n",
    "p1.set_pos(p2, 10 * N.x)\n",
    "p1.pos_from(p2)"
   ]
  },
  {
   "cell_type": "code",
   "execution_count": null,
   "id": "b7fa53ee-48e3-4e12-8747-3d71c57e4569",
   "metadata": {},
   "outputs": [
    {
     "data": {
      "text/plain": [
       "{'name': 'p1',\n",
       " '_pos_dict': {p2: 10*N.x},\n",
       " '_vel_dict': {},\n",
       " '_acc_dict': {},\n",
       " '_pdlist': [{p2: 10*N.x}, {}, {}]}"
      ]
     },
     "execution_count": null,
     "metadata": {},
     "output_type": "execute_result"
    }
   ],
   "source": [
    "p1.__dict__"
   ]
  },
  {
   "cell_type": "code",
   "execution_count": null,
   "id": "eaca82d8-9ad4-4d64-8106-02f23ae94167",
   "metadata": {},
   "outputs": [
    {
     "data": {
      "text/plain": [
       "{p2: 10*N.x}"
      ]
     },
     "execution_count": null,
     "metadata": {},
     "output_type": "execute_result"
    }
   ],
   "source": [
    "p1._pos_dict"
   ]
  },
  {
   "cell_type": "code",
   "execution_count": null,
   "id": "3a31fa03-44c1-4733-8bd7-6f9cc444d018",
   "metadata": {},
   "outputs": [],
   "source": [
    "positions = pd.Series([p1])"
   ]
  },
  {
   "cell_type": "code",
   "execution_count": null,
   "id": "fce39445-4682-42ab-9e04-9a96befe7169",
   "metadata": {},
   "outputs": [
    {
     "data": {
      "text/plain": [
       "0    p1\n",
       "dtype: object"
      ]
     },
     "execution_count": null,
     "metadata": {},
     "output_type": "execute_result"
    }
   ],
   "source": [
    "positions"
   ]
  },
  {
   "cell_type": "markdown",
   "id": "3c74d047-afc5-40e8-b6c1-eb2a1ddd39ff",
   "metadata": {},
   "source": [
    "### Attractive Gravitational"
   ]
  },
  {
   "cell_type": "code",
   "execution_count": null,
   "id": "60ae5ef3-0290-4063-86c9-941ba7e96c8a",
   "metadata": {},
   "outputs": [],
   "source": [
    "#| export\n",
    "class AttractiveGravity(Force):\n",
    "    \n",
    "    def magnitude(\n",
    "        self,\n",
    "        other_object\n",
    "    ):\n",
    "        pass"
   ]
  },
  {
   "cell_type": "code",
   "execution_count": null,
   "id": "1ad6c90e-b4bc-4e7e-82d3-b6b420b8e057",
   "metadata": {},
   "outputs": [],
   "source": [
    "def magnitude():\n",
    "    m1, m2, r = smp.symbols(\"m_1 m_2 r\")\n",
    "    m = m1 * m2\n",
    "    return smp.Rational(m, r**2)"
   ]
  },
  {
   "cell_type": "code",
   "execution_count": null,
   "id": "64e0284e-705f-4fc9-b69f-a37c5f1b1ed2",
   "metadata": {},
   "outputs": [],
   "source": [
    "F_g = smp.symbols('F_g', real=True)"
   ]
  },
  {
   "cell_type": "code",
   "execution_count": null,
   "id": "9a1f9fd4-8cfc-4be4-95da-4c0f8445d064",
   "metadata": {},
   "outputs": [
    {
     "data": {
      "text/plain": [
       "F_g"
      ]
     },
     "execution_count": null,
     "metadata": {},
     "output_type": "execute_result"
    }
   ],
   "source": [
    "F_g"
   ]
  },
  {
   "cell_type": "code",
   "execution_count": null,
   "id": "bc2cc65d-e5a3-489b-a1e3-fb0d895361b7",
   "metadata": {},
   "outputs": [],
   "source": [
    "x = smp.symbols('x')"
   ]
  },
  {
   "cell_type": "code",
   "execution_count": null,
   "id": "41dcfcad-0e1d-4fe6-bec2-2a29bf2b3af8",
   "metadata": {},
   "outputs": [
    {
     "data": {
      "text/plain": [
       "x"
      ]
     },
     "execution_count": null,
     "metadata": {},
     "output_type": "execute_result"
    }
   ],
   "source": [
    "x"
   ]
  },
  {
   "cell_type": "code",
   "execution_count": null,
   "id": "4748f72b-2d36-4e89-a2ea-11c402342f84",
   "metadata": {},
   "outputs": [
    {
     "data": {
      "text/plain": [
       "Eq(F_g, 2)"
      ]
     },
     "execution_count": null,
     "metadata": {},
     "output_type": "execute_result"
    }
   ],
   "source": [
    "smp.Eq(F_g, 2)"
   ]
  },
  {
   "cell_type": "code",
   "execution_count": null,
   "id": "de9081e9-e178-4f83-bc4b-81bc44828f1d",
   "metadata": {},
   "outputs": [
    {
     "ename": "TypeError",
     "evalue": "invalid input: m_1*m_2",
     "output_type": "error",
     "traceback": [
      "\u001b[0;31m---------------------------------------------------------------------------\u001b[0m",
      "\u001b[0;31mTypeError\u001b[0m                                 Traceback (most recent call last)",
      "Input \u001b[0;32mIn [31]\u001b[0m, in \u001b[0;36m<cell line: 1>\u001b[0;34m()\u001b[0m\n\u001b[0;32m----> 1\u001b[0m \u001b[43mmagnitude\u001b[49m\u001b[43m(\u001b[49m\u001b[43m)\u001b[49m\n",
      "Input \u001b[0;32mIn [25]\u001b[0m, in \u001b[0;36mmagnitude\u001b[0;34m()\u001b[0m\n\u001b[1;32m      2\u001b[0m m1, m2, r \u001b[38;5;241m=\u001b[39m smp\u001b[38;5;241m.\u001b[39msymbols(\u001b[38;5;124m\"\u001b[39m\u001b[38;5;124mm_1 m_2 r\u001b[39m\u001b[38;5;124m\"\u001b[39m)\n\u001b[1;32m      3\u001b[0m m \u001b[38;5;241m=\u001b[39m m1 \u001b[38;5;241m*\u001b[39m m2\n\u001b[0;32m----> 4\u001b[0m \u001b[38;5;28;01mreturn\u001b[39;00m \u001b[43msmp\u001b[49m\u001b[38;5;241;43m.\u001b[39;49m\u001b[43mRational\u001b[49m\u001b[43m(\u001b[49m\u001b[43mm\u001b[49m\u001b[43m,\u001b[49m\u001b[43m \u001b[49m\u001b[43mr\u001b[49m\u001b[38;5;241;43m*\u001b[39;49m\u001b[38;5;241;43m*\u001b[39;49m\u001b[38;5;241;43m2\u001b[39;49m\u001b[43m)\u001b[49m\n",
      "File \u001b[0;32m/opt/anaconda3/envs/zorios/lib/python3.9/site-packages/sympy/core/cache.py:70\u001b[0m, in \u001b[0;36m__cacheit.<locals>.func_wrapper.<locals>.wrapper\u001b[0;34m(*args, **kwargs)\u001b[0m\n\u001b[1;32m     67\u001b[0m \u001b[38;5;129m@wraps\u001b[39m(func)\n\u001b[1;32m     68\u001b[0m \u001b[38;5;28;01mdef\u001b[39;00m \u001b[38;5;21mwrapper\u001b[39m(\u001b[38;5;241m*\u001b[39margs, \u001b[38;5;241m*\u001b[39m\u001b[38;5;241m*\u001b[39mkwargs):\n\u001b[1;32m     69\u001b[0m     \u001b[38;5;28;01mtry\u001b[39;00m:\n\u001b[0;32m---> 70\u001b[0m         retval \u001b[38;5;241m=\u001b[39m \u001b[43mcfunc\u001b[49m\u001b[43m(\u001b[49m\u001b[38;5;241;43m*\u001b[39;49m\u001b[43margs\u001b[49m\u001b[43m,\u001b[49m\u001b[43m \u001b[49m\u001b[38;5;241;43m*\u001b[39;49m\u001b[38;5;241;43m*\u001b[39;49m\u001b[43mkwargs\u001b[49m\u001b[43m)\u001b[49m\n\u001b[1;32m     71\u001b[0m     \u001b[38;5;28;01mexcept\u001b[39;00m \u001b[38;5;167;01mTypeError\u001b[39;00m \u001b[38;5;28;01mas\u001b[39;00m e:\n\u001b[1;32m     72\u001b[0m         \u001b[38;5;28;01mif\u001b[39;00m \u001b[38;5;129;01mnot\u001b[39;00m e\u001b[38;5;241m.\u001b[39margs \u001b[38;5;129;01mor\u001b[39;00m \u001b[38;5;129;01mnot\u001b[39;00m e\u001b[38;5;241m.\u001b[39margs[\u001b[38;5;241m0\u001b[39m]\u001b[38;5;241m.\u001b[39mstartswith(\u001b[38;5;124m'\u001b[39m\u001b[38;5;124munhashable type:\u001b[39m\u001b[38;5;124m'\u001b[39m):\n",
      "File \u001b[0;32m/opt/anaconda3/envs/zorios/lib/python3.9/site-packages/sympy/core/numbers.py:1628\u001b[0m, in \u001b[0;36mRational.__new__\u001b[0;34m(cls, p, q, gcd)\u001b[0m\n\u001b[1;32m   1625\u001b[0m     gcd \u001b[38;5;241m=\u001b[39m \u001b[38;5;241m1\u001b[39m\n\u001b[1;32m   1627\u001b[0m \u001b[38;5;28;01mif\u001b[39;00m \u001b[38;5;129;01mnot\u001b[39;00m \u001b[38;5;28misinstance\u001b[39m(p, SYMPY_INTS):\n\u001b[0;32m-> 1628\u001b[0m     p \u001b[38;5;241m=\u001b[39m \u001b[43mRational\u001b[49m\u001b[43m(\u001b[49m\u001b[43mp\u001b[49m\u001b[43m)\u001b[49m\n\u001b[1;32m   1629\u001b[0m     q \u001b[38;5;241m*\u001b[39m\u001b[38;5;241m=\u001b[39m p\u001b[38;5;241m.\u001b[39mq\n\u001b[1;32m   1630\u001b[0m     p \u001b[38;5;241m=\u001b[39m p\u001b[38;5;241m.\u001b[39mp\n",
      "File \u001b[0;32m/opt/anaconda3/envs/zorios/lib/python3.9/site-packages/sympy/core/cache.py:70\u001b[0m, in \u001b[0;36m__cacheit.<locals>.func_wrapper.<locals>.wrapper\u001b[0;34m(*args, **kwargs)\u001b[0m\n\u001b[1;32m     67\u001b[0m \u001b[38;5;129m@wraps\u001b[39m(func)\n\u001b[1;32m     68\u001b[0m \u001b[38;5;28;01mdef\u001b[39;00m \u001b[38;5;21mwrapper\u001b[39m(\u001b[38;5;241m*\u001b[39margs, \u001b[38;5;241m*\u001b[39m\u001b[38;5;241m*\u001b[39mkwargs):\n\u001b[1;32m     69\u001b[0m     \u001b[38;5;28;01mtry\u001b[39;00m:\n\u001b[0;32m---> 70\u001b[0m         retval \u001b[38;5;241m=\u001b[39m \u001b[43mcfunc\u001b[49m\u001b[43m(\u001b[49m\u001b[38;5;241;43m*\u001b[39;49m\u001b[43margs\u001b[49m\u001b[43m,\u001b[49m\u001b[43m \u001b[49m\u001b[38;5;241;43m*\u001b[39;49m\u001b[38;5;241;43m*\u001b[39;49m\u001b[43mkwargs\u001b[49m\u001b[43m)\u001b[49m\n\u001b[1;32m     71\u001b[0m     \u001b[38;5;28;01mexcept\u001b[39;00m \u001b[38;5;167;01mTypeError\u001b[39;00m \u001b[38;5;28;01mas\u001b[39;00m e:\n\u001b[1;32m     72\u001b[0m         \u001b[38;5;28;01mif\u001b[39;00m \u001b[38;5;129;01mnot\u001b[39;00m e\u001b[38;5;241m.\u001b[39margs \u001b[38;5;129;01mor\u001b[39;00m \u001b[38;5;129;01mnot\u001b[39;00m e\u001b[38;5;241m.\u001b[39margs[\u001b[38;5;241m0\u001b[39m]\u001b[38;5;241m.\u001b[39mstartswith(\u001b[38;5;124m'\u001b[39m\u001b[38;5;124munhashable type:\u001b[39m\u001b[38;5;124m'\u001b[39m):\n",
      "File \u001b[0;32m/opt/anaconda3/envs/zorios/lib/python3.9/site-packages/sympy/core/numbers.py:1622\u001b[0m, in \u001b[0;36mRational.__new__\u001b[0;34m(cls, p, q, gcd)\u001b[0m\n\u001b[1;32m   1619\u001b[0m             \u001b[38;5;28;01mreturn\u001b[39;00m Rational(p\u001b[38;5;241m.\u001b[39mnumerator, p\u001b[38;5;241m.\u001b[39mdenominator, \u001b[38;5;241m1\u001b[39m)\n\u001b[1;32m   1621\u001b[0m     \u001b[38;5;28;01mif\u001b[39;00m \u001b[38;5;129;01mnot\u001b[39;00m \u001b[38;5;28misinstance\u001b[39m(p, Rational):\n\u001b[0;32m-> 1622\u001b[0m         \u001b[38;5;28;01mraise\u001b[39;00m \u001b[38;5;167;01mTypeError\u001b[39;00m(\u001b[38;5;124m'\u001b[39m\u001b[38;5;124minvalid input: \u001b[39m\u001b[38;5;132;01m%s\u001b[39;00m\u001b[38;5;124m'\u001b[39m \u001b[38;5;241m%\u001b[39m p)\n\u001b[1;32m   1624\u001b[0m q \u001b[38;5;241m=\u001b[39m \u001b[38;5;241m1\u001b[39m\n\u001b[1;32m   1625\u001b[0m gcd \u001b[38;5;241m=\u001b[39m \u001b[38;5;241m1\u001b[39m\n",
      "\u001b[0;31mTypeError\u001b[0m: invalid input: m_1*m_2"
     ]
    }
   ],
   "source": [
    "magnitude()"
   ]
  },
  {
   "cell_type": "code",
   "execution_count": null,
   "id": "ed45d593-50b2-443c-bf06-41e23ab1688d",
   "metadata": {},
   "outputs": [],
   "source": []
  }
 ],
 "metadata": {
  "kernelspec": {
   "display_name": "Python 3 (ipykernel)",
   "language": "python",
   "name": "python3"
  }
 },
 "nbformat": 4,
 "nbformat_minor": 5
}
