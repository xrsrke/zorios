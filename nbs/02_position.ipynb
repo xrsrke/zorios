{
 "cells": [
  {
   "cell_type": "markdown",
   "id": "bd5cc550-30e2-4e55-a169-bd4a4b9a96d6",
   "metadata": {},
   "source": [
    "# Position\n",
    "\n",
    "> Fill in a module description here"
   ]
  },
  {
   "cell_type": "code",
   "execution_count": null,
   "id": "c31e9936-f29a-4b3b-8c70-04dd9111cf4b",
   "metadata": {},
   "outputs": [],
   "source": [
    "#| default_exp position"
   ]
  },
  {
   "cell_type": "code",
   "execution_count": null,
   "id": "5ade3040-2566-4cfc-87f4-c820d34b602b",
   "metadata": {},
   "outputs": [],
   "source": [
    "#| hide\n",
    "from nbdev.showdoc import *"
   ]
  },
  {
   "cell_type": "code",
   "execution_count": null,
   "id": "c92e5358-7f0b-4d2f-9229-9c2ebeedc12d",
   "metadata": {},
   "outputs": [],
   "source": [
    "#| hide\n",
    "import nbdev; nbdev.nbdev_export()"
   ]
  },
  {
   "cell_type": "code",
   "execution_count": null,
   "id": "30f7e15c-7d82-402e-88af-86ce1fbcc77b",
   "metadata": {},
   "outputs": [],
   "source": [
    "#| export\n",
    "import numpy as np\n",
    "import pandas as pd\n",
    "from fastcore.test import test_eq"
   ]
  },
  {
   "cell_type": "code",
   "execution_count": null,
   "id": "4b0097c6-5531-42e1-be86-c3a040bdea45",
   "metadata": {},
   "outputs": [],
   "source": [
    "series = pd.Series([], dtype=np.float64)"
   ]
  },
  {
   "cell_type": "code",
   "execution_count": null,
   "id": "cdeb815c-eac1-46ee-8e11-c96c6ce5e9bf",
   "metadata": {},
   "outputs": [
    {
     "data": {
      "text/plain": [
       "Series([], dtype: float64)"
      ]
     },
     "execution_count": null,
     "metadata": {},
     "output_type": "execute_result"
    }
   ],
   "source": [
    "series"
   ]
  },
  {
   "cell_type": "markdown",
   "id": "de73a7dd-10a6-44a5-b81f-00601f64d334",
   "metadata": {},
   "source": [
    "### Coordinate System"
   ]
  },
  {
   "cell_type": "code",
   "execution_count": null,
   "id": "ac6ac367-c1c1-4df0-85e6-6f403ab7f865",
   "metadata": {},
   "outputs": [],
   "source": [
    "#| export\n",
    "class CoordinateSystem:\n",
    "    pass"
   ]
  },
  {
   "cell_type": "markdown",
   "id": "82877d9f-3897-4503-b4ae-337798d651eb",
   "metadata": {},
   "source": [
    "### Coordinate"
   ]
  },
  {
   "cell_type": "code",
   "execution_count": null,
   "id": "404c1df3-f495-4841-ae0f-4b439d9f407b",
   "metadata": {},
   "outputs": [],
   "source": [
    "#| export\n",
    "class Coordinate:\n",
    "    def __init__(self, x, y, z=None):\n",
    "        self.x = x\n",
    "        self.y = y\n",
    "        self.z = z\n",
    "    \n",
    "    def __repr__(self):\n",
    "        return str(f'({self.x}, {self.y}, {self.z})')"
   ]
  },
  {
   "cell_type": "code",
   "execution_count": null,
   "id": "bcd69c72-62ab-4b28-8584-58d594a3cbb0",
   "metadata": {},
   "outputs": [],
   "source": [
    "c1 = Coordinate(x=1, y=2)"
   ]
  },
  {
   "cell_type": "code",
   "execution_count": null,
   "id": "2fd0da35-73b4-4563-8544-006a4f76abf4",
   "metadata": {},
   "outputs": [
    {
     "data": {
      "text/plain": [
       "(1, 2, None)"
      ]
     },
     "execution_count": null,
     "metadata": {},
     "output_type": "execute_result"
    }
   ],
   "source": [
    "c1"
   ]
  },
  {
   "cell_type": "code",
   "execution_count": null,
   "id": "2e8179f5-ae0c-4537-a3da-d57e74998902",
   "metadata": {},
   "outputs": [],
   "source": [
    "#| hide\n",
    "test_eq(c1.x, 1)\n",
    "test_eq(c1.z, None)"
   ]
  },
  {
   "cell_type": "markdown",
   "id": "9e6a8175-c35d-4955-b0f8-506cdae20866",
   "metadata": {},
   "source": [
    "### Position"
   ]
  },
  {
   "cell_type": "code",
   "execution_count": null,
   "id": "14ff9268-a586-4613-ae89-455bad077413",
   "metadata": {},
   "outputs": [
    {
     "data": {
      "text/plain": [
       "0    (1, 2, None)\n",
       "dtype: object"
      ]
     },
     "execution_count": null,
     "metadata": {},
     "output_type": "execute_result"
    }
   ],
   "source": [
    "pd.Series([c1])"
   ]
  },
  {
   "cell_type": "code",
   "execution_count": null,
   "id": "f6a0e584-ee33-4bb1-abcc-033994d68a03",
   "metadata": {},
   "outputs": [],
   "source": [
    "#| export\n",
    "class Position:\n",
    "    def __init__(self):\n",
    "        self._data = pd.Series([41, 231], dtype=np.float64)\n",
    "        self._data.index.name = 'Time'\n",
    "        self._data.name = 'Position'\n",
    "    \n",
    "    # def __repr__(self):\n",
    "    #     return self._data"
   ]
  },
  {
   "cell_type": "code",
   "execution_count": null,
   "id": "53eddb36-e738-4645-b695-8831acbff29c",
   "metadata": {},
   "outputs": [],
   "source": [
    "xs = Position()"
   ]
  },
  {
   "cell_type": "code",
   "execution_count": null,
   "id": "89a3b921-6dee-4d79-8a02-5ac41244dc1f",
   "metadata": {},
   "outputs": [
    {
     "data": {
      "text/plain": [
       "Time\n",
       "0     41.0\n",
       "1    231.0\n",
       "Name: Position, dtype: float64"
      ]
     },
     "execution_count": null,
     "metadata": {},
     "output_type": "execute_result"
    }
   ],
   "source": [
    "xs._data"
   ]
  }
 ],
 "metadata": {
  "kernelspec": {
   "display_name": "Python 3 (ipykernel)",
   "language": "python",
   "name": "python3"
  }
 },
 "nbformat": 4,
 "nbformat_minor": 5
}
