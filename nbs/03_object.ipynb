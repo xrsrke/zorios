{
 "cells": [
  {
   "cell_type": "markdown",
   "id": "c86ba11d-27d0-4766-82c7-f24cb43b6853",
   "metadata": {},
   "source": [
    "# Object\n",
    "\n",
    "> Fill in a module description here"
   ]
  },
  {
   "cell_type": "code",
   "execution_count": null,
   "id": "bb170275-e279-4475-b61d-9a5cff25ae2c",
   "metadata": {},
   "outputs": [],
   "source": [
    "#| default_exp object"
   ]
  },
  {
   "cell_type": "code",
   "execution_count": null,
   "id": "079b1104-ac55-4ac1-965b-eb7bba4bc3c2",
   "metadata": {},
   "outputs": [],
   "source": [
    "#| hide\n",
    "from nbdev.showdoc import *"
   ]
  },
  {
   "cell_type": "code",
   "execution_count": null,
   "id": "b2dfe024-c43f-4dd0-87ab-70d313c0e424",
   "metadata": {},
   "outputs": [],
   "source": [
    "#| hide\n",
    "import nbdev; nbdev.nbdev_export()"
   ]
  },
  {
   "cell_type": "code",
   "execution_count": null,
   "id": "41e251ec-d9a8-4e2d-a513-86b58906405b",
   "metadata": {},
   "outputs": [],
   "source": [
    "#| export\n",
    "from abc import ABC, abstractmethod\n",
    "from dataclasses import dataclass\n",
    "\n",
    "from fastcore.test import test_eq\n",
    "\n",
    "from zorios import constants"
   ]
  },
  {
   "cell_type": "markdown",
   "id": "271b8eda-57b0-42d6-91b4-b4b57471a063",
   "metadata": {},
   "source": [
    "### Shape"
   ]
  },
  {
   "cell_type": "markdown",
   "id": "67949d66-82d7-4f2e-8ef2-46f525ca1751",
   "metadata": {},
   "source": [
    "To find the attractive gravitational between two objects. We need the distance from the center between them. So to simplify it, find from object basic shapes"
   ]
  },
  {
   "cell_type": "code",
   "execution_count": null,
   "id": "a103e324-0464-4758-a2e9-181b75dac6d6",
   "metadata": {},
   "outputs": [],
   "source": [
    "# #| export\n",
    "# class Shape:\n",
    "    \n",
    "#     SQUARE = 'SQUARE'\n",
    "#     CUBE = 'CUBE'\n",
    "    \n",
    "#     RECTANGLE = 'RECTANGLE'\n",
    "#     CUBOID = 'CUBOID'    \n",
    "    \n",
    "#     CIRCLE = 'CIRCLE'\n",
    "#     SPHERE = 'SPHERE'"
   ]
  },
  {
   "cell_type": "code",
   "execution_count": null,
   "id": "2c004491-9356-40d6-a7df-0a4bd8052cfe",
   "metadata": {},
   "outputs": [],
   "source": [
    "#| export\n",
    "class Shape(ABC):\n",
    "    # @abstractmethod\n",
    "    # def radius(self):\n",
    "    #     pass\n",
    "    pass"
   ]
  },
  {
   "cell_type": "code",
   "execution_count": null,
   "id": "708620e8-2e9e-448a-a974-851b5404d269",
   "metadata": {},
   "outputs": [],
   "source": [
    "#| export\n",
    "class Shape3D(Shape):\n",
    "    # @abstractmethod\n",
    "    # def volume(self):\n",
    "    #     pass\n",
    "    pass"
   ]
  },
  {
   "cell_type": "code",
   "execution_count": null,
   "id": "dcfe01bb-4cd3-40c0-93df-994da9012b88",
   "metadata": {},
   "outputs": [],
   "source": [
    "#| export\n",
    "class Point(Shape):\n",
    "    pass"
   ]
  },
  {
   "cell_type": "code",
   "execution_count": null,
   "id": "60c3db91-7093-4879-a760-dd368620e9a7",
   "metadata": {},
   "outputs": [],
   "source": [
    "#| export\n",
    "class Square(Shape):\n",
    "    def radius(self):\n",
    "        # in the square, the radius called diangal\n",
    "        pass"
   ]
  },
  {
   "cell_type": "code",
   "execution_count": null,
   "id": "0f8f05ed-9744-4d4e-91b3-2f8fac7de4a1",
   "metadata": {},
   "outputs": [],
   "source": [
    "#| export\n",
    "class Sphere(Shape3D):\n",
    "    \n",
    "    def __init__(\n",
    "        self,\n",
    "        radius # the radius of the sphere\n",
    "    ):\n",
    "        self.radius = radius"
   ]
  },
  {
   "cell_type": "markdown",
   "id": "e987674b-d783-421e-b391-014afc496a07",
   "metadata": {},
   "source": [
    "### Object"
   ]
  },
  {
   "cell_type": "markdown",
   "id": "f943a815-7a1d-492d-a8ad-6b77548b6085",
   "metadata": {},
   "source": [
    "There's two types of object\n",
    "- A particle\n",
    "- A system of particle"
   ]
  },
  {
   "cell_type": "code",
   "execution_count": null,
   "id": "78a580e5-159c-4e8e-b22b-a262aa9d2cc0",
   "metadata": {},
   "outputs": [],
   "source": [
    "#| export\n",
    "class Object:\n",
    "    def __init__(self):\n",
    "        self.mass = None\n",
    "        self.shape: Shape = None"
   ]
  },
  {
   "cell_type": "code",
   "execution_count": null,
   "id": "7afa9871-910b-448e-b2d7-e43b03c687de",
   "metadata": {},
   "outputs": [],
   "source": [
    "#| export\n",
    "class Particle(Object):\n",
    "    def __init__(self):\n",
    "        pass"
   ]
  },
  {
   "cell_type": "code",
   "execution_count": null,
   "id": "980bb2e7-690b-4715-9d54-528d9013e14a",
   "metadata": {},
   "outputs": [],
   "source": [
    "#| export\n",
    "class RigidBody(Object):\n",
    "    pass"
   ]
  },
  {
   "cell_type": "markdown",
   "id": "b66d2ed6-bceb-40ae-a4a6-ee896035d585",
   "metadata": {},
   "source": [
    "### Object Builder"
   ]
  },
  {
   "cell_type": "code",
   "execution_count": null,
   "id": "486a524b-89a6-448a-bd1f-edb51eefa83e",
   "metadata": {},
   "outputs": [],
   "source": [
    "#| export\n",
    "class BuildObject(ABC):\n",
    "    \n",
    "    @abstractmethod\n",
    "    def setMass(self):\n",
    "        pass\n",
    "    \n",
    "    @abstractmethod\n",
    "    def build(self):\n",
    "        pass"
   ]
  },
  {
   "cell_type": "code",
   "execution_count": null,
   "id": "5c68e152-d449-4f85-a538-b33e93197808",
   "metadata": {},
   "outputs": [],
   "source": [
    "#| export\n",
    "class BuildParticle(BuildObject, Particle):\n",
    "    \n",
    "    def __init__(self, particle=Particle()):\n",
    "        self.particle = particle\n",
    "        self.particle.shape = Point()\n",
    "    \n",
    "    def setMass(self, mass):\n",
    "        self.particle.mass = mass\n",
    "        return self\n",
    "    \n",
    "    def build(self):\n",
    "        return self.particle"
   ]
  },
  {
   "cell_type": "code",
   "execution_count": null,
   "id": "cbb3511b-5627-46da-b86c-2525bccb7639",
   "metadata": {},
   "outputs": [],
   "source": [
    "#| export\n",
    "class BuildRigidBody(BuildObject, RigidBody):\n",
    "    @abstractmethod\n",
    "    def setShape(self):\n",
    "        pass"
   ]
  },
  {
   "cell_type": "markdown",
   "id": "6934d6bf-4c86-4e38-8f55-b6234f023a8f",
   "metadata": {},
   "source": [
    "### Object Factory"
   ]
  },
  {
   "cell_type": "code",
   "execution_count": null,
   "id": "cac88baa-6ea3-4467-ac7e-1b035503314c",
   "metadata": {},
   "outputs": [],
   "source": [
    "#| export\n",
    "class BuildSphere(BuildRigidBody):\n",
    "    def __init__(\n",
    "        self,\n",
    "        #body=Object(),\n",
    "        radius # the radius of the sphere\n",
    "    ):\n",
    "        self.shape = Sphere(radius=radius)\n",
    "    \n",
    "    def setMass(self, mass):\n",
    "        return self\n",
    "    \n",
    "    def build(self):\n",
    "        return self"
   ]
  },
  {
   "cell_type": "markdown",
   "id": "1c598b80-57b5-4672-aa1b-0af63ca071ec",
   "metadata": {},
   "source": [
    "#### Build Planet"
   ]
  },
  {
   "cell_type": "markdown",
   "id": "0ad9526a-9351-4461-8062-1b61f06486ed",
   "metadata": {},
   "source": [
    "Ok. If there's no object in the universe. So there will be no gravity."
   ]
  },
  {
   "cell_type": "code",
   "execution_count": null,
   "id": "155ab4be-681d-463c-b3d2-d206ce07e521",
   "metadata": {},
   "outputs": [],
   "source": [
    "#| export\n",
    "class BuildPlanet(BuildRigidBody):\n",
    "    def __init__(self, object=Object()):\n",
    "        self.object = object\n",
    "    \n",
    "    def setMass(self, mass):\n",
    "        self.object.mass = mass\n",
    "        return self\n",
    "    \n",
    "    def setShape(self, shape):\n",
    "        self.object.shape = shape\n",
    "        return self\n",
    "    \n",
    "    def build(self):\n",
    "        return self.object"
   ]
  },
  {
   "cell_type": "code",
   "execution_count": null,
   "id": "ab663c97-dc5c-46ae-a005-a66ceecce8f3",
   "metadata": {},
   "outputs": [],
   "source": [
    "#| export\n",
    "class PlanetFactory:\n",
    "    \n",
    "    @staticmethod\n",
    "    def new_earth():\n",
    "        shape = Sphere(radius=constants.EARTH_RADIUS)\n",
    "        earth = BuildPlanet().setMass(constants.EARTH_MASS).setShape(shape).build()\n",
    "        return earth\n",
    "    \n",
    "    @staticmethod\n",
    "    def new_mars():\n",
    "        shape = Sphere(radius=constants.MARS_RADIUS)\n",
    "        mars = BuildPlanet().setMass(constants.MARS_MASS).setShape(shape).build()\n",
    "        return mars"
   ]
  },
  {
   "cell_type": "code",
   "execution_count": null,
   "id": "80934741-86c3-4de4-998e-10381d4bdd63",
   "metadata": {},
   "outputs": [],
   "source": [
    "earth = PlanetFactory().new_earth()"
   ]
  },
  {
   "cell_type": "code",
   "execution_count": null,
   "id": "44b8af15-8e3b-4e24-a949-6269dd54b091",
   "metadata": {},
   "outputs": [
    {
     "data": {
      "text/plain": [
       "{'mass': 5.9736e+24 <Unit('kilogram')>,\n",
       " 'shape': <__main__.Sphere>}"
      ]
     },
     "execution_count": null,
     "metadata": {},
     "output_type": "execute_result"
    }
   ],
   "source": [
    "earth.__dict__"
   ]
  },
  {
   "cell_type": "code",
   "execution_count": null,
   "id": "96b26c61-7b61-4c2e-955e-b450adb731eb",
   "metadata": {},
   "outputs": [
    {
     "data": {
      "text/plain": [
       "'5.9736e+24 kilogram'"
      ]
     },
     "execution_count": null,
     "metadata": {},
     "output_type": "execute_result"
    }
   ],
   "source": [
    "str(earth.mass)"
   ]
  },
  {
   "cell_type": "code",
   "execution_count": null,
   "id": "419ae9e2-30f5-4db2-b0e3-0a066a5da2ed",
   "metadata": {},
   "outputs": [
    {
     "data": {
      "text/html": [
       "6371000.0 meter"
      ],
      "text/latex": [
       "$6371000.0\\ \\mathrm{meter}$"
      ],
      "text/plain": [
       "6371000.0 <Unit('meter')>"
      ]
     },
     "execution_count": null,
     "metadata": {},
     "output_type": "execute_result"
    }
   ],
   "source": [
    "earth.shape.radius"
   ]
  },
  {
   "cell_type": "code",
   "execution_count": null,
   "id": "b520fc8b-cb34-4fd0-927f-852eb97fee4c",
   "metadata": {},
   "outputs": [],
   "source": [
    "#| hide\n",
    "test_eq(str(earth.mass), str(constants.EARTH_MASS))\n",
    "test_eq(str(earth.shape.radius), str(constants.EARTH_RADIUS))"
   ]
  }
 ],
 "metadata": {
  "kernelspec": {
   "display_name": "Python 3 (ipykernel)",
   "language": "python",
   "name": "python3"
  },
  "language_info": {
   "codemirror_mode": {
    "name": "ipython",
    "version": 3
   },
   "file_extension": ".py",
   "mimetype": "text/x-python",
   "name": "python",
   "nbconvert_exporter": "python",
   "pygments_lexer": "ipython3",
   "version": "3.9.13"
  }
 },
 "nbformat": 4,
 "nbformat_minor": 5
}
