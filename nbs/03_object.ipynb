{
 "cells": [
  {
   "cell_type": "markdown",
   "id": "c86ba11d-27d0-4766-82c7-f24cb43b6853",
   "metadata": {},
   "source": [
    "# Object\n",
    "\n",
    "> Fill in a module description here"
   ]
  },
  {
   "cell_type": "code",
   "execution_count": null,
   "id": "bb170275-e279-4475-b61d-9a5cff25ae2c",
   "metadata": {},
   "outputs": [],
   "source": [
    "#| default_exp object"
   ]
  },
  {
   "cell_type": "code",
   "execution_count": null,
   "id": "079b1104-ac55-4ac1-965b-eb7bba4bc3c2",
   "metadata": {},
   "outputs": [],
   "source": [
    "#| hide\n",
    "from nbdev.showdoc import *"
   ]
  },
  {
   "cell_type": "code",
   "execution_count": null,
   "id": "b2dfe024-c43f-4dd0-87ab-70d313c0e424",
   "metadata": {},
   "outputs": [],
   "source": [
    "#| hide\n",
    "import nbdev; nbdev.nbdev_export()"
   ]
  },
  {
   "cell_type": "markdown",
   "id": "f943a815-7a1d-492d-a8ad-6b77548b6085",
   "metadata": {},
   "source": [
    "There's two types of object\n",
    "- A particle\n",
    "- A system of particle"
   ]
  },
  {
   "cell_type": "code",
   "execution_count": null,
   "id": "78a580e5-159c-4e8e-b22b-a262aa9d2cc0",
   "metadata": {},
   "outputs": [],
   "source": [
    "#| export\n",
    "class Object:\n",
    "    pass"
   ]
  },
  {
   "cell_type": "code",
   "execution_count": null,
   "id": "7afa9871-910b-448e-b2d7-e43b03c687de",
   "metadata": {},
   "outputs": [],
   "source": [
    "#| export\n",
    "class Particle(Object):\n",
    "    pass"
   ]
  },
  {
   "cell_type": "code",
   "execution_count": null,
   "id": "980bb2e7-690b-4715-9d54-528d9013e14a",
   "metadata": {},
   "outputs": [],
   "source": [
    "#| export\n",
    "class RigidBody(Object):\n",
    "    pass"
   ]
  },
  {
   "cell_type": "code",
   "execution_count": null,
   "id": "a48f5c1e-371a-444b-aa34-95860f5c33a8",
   "metadata": {},
   "outputs": [],
   "source": []
  }
 ],
 "metadata": {
  "kernelspec": {
   "display_name": "Python 3 (ipykernel)",
   "language": "python",
   "name": "python3"
  }
 },
 "nbformat": 4,
 "nbformat_minor": 5
}
