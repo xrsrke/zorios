{
 "cells": [
  {
   "cell_type": "markdown",
   "id": "785b0c2e-7257-4b52-968c-a92a99abf8db",
   "metadata": {},
   "source": [
    "# Momentum\n",
    "\n",
    "> Fill in a module description here"
   ]
  },
  {
   "cell_type": "code",
   "execution_count": null,
   "id": "c8bab596-abea-443e-93d9-0bd39c7e0551",
   "metadata": {},
   "outputs": [],
   "source": [
    "#| default_exp momentum"
   ]
  },
  {
   "cell_type": "code",
   "execution_count": null,
   "id": "682b52be-33a3-43f0-988e-6c81eef5a17b",
   "metadata": {},
   "outputs": [],
   "source": [
    "#| hide\n",
    "from nbdev.showdoc import *"
   ]
  },
  {
   "cell_type": "code",
   "execution_count": null,
   "id": "09770bce-b2b5-4e5e-b0a5-ae984d048cc5",
   "metadata": {},
   "outputs": [],
   "source": [
    "#| hide\n",
    "import nbdev; nbdev.nbdev_export()"
   ]
  },
  {
   "cell_type": "markdown",
   "id": "1092ebf7-d4f7-472d-baa3-3fc280f66ea5",
   "metadata": {},
   "source": [
    "- Momentum: $\\overrightarrow{\\boldsymbol{p}}=m \\overrightarrow{\\boldsymbol{v}}$\n",
    "- The sum of forces: $\\sum \\overrightarrow{\\boldsymbol{F}}=\\frac{d \\overrightarrow{\\boldsymbol{p}}}{d t}$"
   ]
  },
  {
   "cell_type": "code",
   "execution_count": null,
   "id": "ad2d9cf5-7e97-457a-9a4c-31645b8a593d",
   "metadata": {},
   "outputs": [],
   "source": []
  }
 ],
 "metadata": {
  "kernelspec": {
   "display_name": "Python 3 (ipykernel)",
   "language": "python",
   "name": "python3"
  }
 },
 "nbformat": 4,
 "nbformat_minor": 5
}
