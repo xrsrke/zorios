{
 "cells": [
  {
   "cell_type": "code",
   "execution_count": null,
   "id": "4d8f775b-48f9-43ae-8ef4-179d55609a35",
   "metadata": {},
   "outputs": [
    {
     "ename": "ModuleNotFoundError",
     "evalue": "No module named 'manim'",
     "output_type": "error",
     "traceback": [
      "\u001b[0;31m---------------------------------------------------------------------------\u001b[0m",
      "\u001b[0;31mModuleNotFoundError\u001b[0m                       Traceback (most recent call last)",
      "Input \u001b[0;32mIn [4]\u001b[0m, in \u001b[0;36m<cell line: 1>\u001b[0;34m()\u001b[0m\n\u001b[0;32m----> 1\u001b[0m \u001b[38;5;28;01mfrom\u001b[39;00m \u001b[38;5;21;01mmanim\u001b[39;00m \u001b[38;5;28;01mimport\u001b[39;00m \u001b[38;5;241m*\u001b[39m\n",
      "\u001b[0;31mModuleNotFoundError\u001b[0m: No module named 'manim'"
     ]
    }
   ],
   "source": [
    "from manim import *"
   ]
  },
  {
   "cell_type": "code",
   "execution_count": null,
   "id": "ef32f1ae-0f7e-4353-b083-57376fa36cc4",
   "metadata": {},
   "outputs": [
    {
     "ename": "ModuleNotFoundError",
     "evalue": "No module named 'manim_physics'",
     "output_type": "error",
     "traceback": [
      "\u001b[0;31m---------------------------------------------------------------------------\u001b[0m",
      "\u001b[0;31mModuleNotFoundError\u001b[0m                       Traceback (most recent call last)",
      "Input \u001b[0;32mIn [2]\u001b[0m, in \u001b[0;36m<cell line: 1>\u001b[0;34m()\u001b[0m\n\u001b[0;32m----> 1\u001b[0m \u001b[38;5;28;01mfrom\u001b[39;00m \u001b[38;5;21;01mmanim_physics\u001b[39;00m \u001b[38;5;28;01mimport\u001b[39;00m \u001b[38;5;241m*\u001b[39m\n\u001b[1;32m      3\u001b[0m \u001b[38;5;28;01mclass\u001b[39;00m \u001b[38;5;21;01mTexFalling\u001b[39;00m(SpaceScene):\n\u001b[1;32m      4\u001b[0m     \u001b[38;5;28;01mdef\u001b[39;00m \u001b[38;5;21mconstruct\u001b[39m(\u001b[38;5;28mself\u001b[39m):\n",
      "\u001b[0;31mModuleNotFoundError\u001b[0m: No module named 'manim_physics'"
     ]
    }
   ],
   "source": [
    "from manim_physics import *\n",
    "\n",
    "class TexFalling(SpaceScene):\n",
    "    def construct(self):\n",
    "        ground = Line(LEFT * 5, RIGHT * 5, color=ORANGE).shift(DOWN)\n",
    "        self.add(ground)\n",
    "        self.make_static_body(ground)\n",
    "        forms = [\n",
    "            r\"e^{i\\pi}+1=0\",\n",
    "            r\"\\cos(x+y)=\\cos x \\cos y - \\sin x \\sin y\",\n",
    "            r\"\\displaystyle \\int_{-\\infty }^{\\infty }e^{-x^{2}}\\,dx={\\sqrt {\\pi }}\",\n",
    "        ]\n",
    "        cols = [RED, BLUE, YELLOW]\n",
    "        for f, col in zip(forms, cols):\n",
    "            text = MathTex(f, color=col)\n",
    "            self.add(text)\n",
    "            self.make_rigid_body(text[0])\n",
    "            self.wait(2)\n",
    "        # Some characters can pass through a static body if the frame rate is low.\n",
    "        # Try increasing frame rate by rendering at a higher quality."
   ]
  },
  {
   "cell_type": "code",
   "execution_count": null,
   "id": "61d1792c-facb-484b-860e-54f39ee83410",
   "metadata": {},
   "outputs": [],
   "source": []
  }
 ],
 "metadata": {
  "kernelspec": {
   "display_name": "Python 3 (ipykernel)",
   "language": "python",
   "name": "python3"
  }
 },
 "nbformat": 4,
 "nbformat_minor": 5
}
