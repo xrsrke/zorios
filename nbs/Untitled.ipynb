{
 "cells": [
  {
   "cell_type": "code",
   "execution_count": null,
   "id": "e36d0a31-217c-4f51-85f9-bb365be8e49c",
   "metadata": {},
   "outputs": [],
   "source": [
    "import sympy as smp\n",
    "from sympy.physics.vector import ReferenceFrame"
   ]
  },
  {
   "cell_type": "markdown",
   "id": "1737f4ed-666a-467a-8459-d2e58a5ca010",
   "metadata": {},
   "source": [
    "### Vectors"
   ]
  },
  {
   "cell_type": "code",
   "execution_count": null,
   "id": "bedb424d-caf3-4dd5-be8d-473635b0acba",
   "metadata": {},
   "outputs": [],
   "source": [
    "N = ReferenceFrame('N')"
   ]
  },
  {
   "cell_type": "code",
   "execution_count": null,
   "id": "147446d4-cd16-4a72-8869-fd4588490d59",
   "metadata": {},
   "outputs": [],
   "source": [
    "from sympy.abc import c, d, e, f, g, h"
   ]
  },
  {
   "cell_type": "code",
   "execution_count": null,
   "id": "005a4203-af75-4db4-914f-d3a915996537",
   "metadata": {},
   "outputs": [],
   "source": [
    "a = c * N.x + d * N.y + e * N.z"
   ]
  },
  {
   "cell_type": "code",
   "execution_count": null,
   "id": "6b2b09c1-e41c-4f2d-a3a0-9946e5e2c80b",
   "metadata": {},
   "outputs": [
    {
     "data": {
      "text/latex": [
       "$\\displaystyle \\left[\\begin{matrix}c\\\\d\\\\e\\end{matrix}\\right]$"
      ],
      "text/plain": [
       "Matrix([\n",
       "[c],\n",
       "[d],\n",
       "[e]])"
      ]
     },
     "execution_count": null,
     "metadata": {},
     "output_type": "execute_result"
    }
   ],
   "source": [
    "a.to_matrix(N)"
   ]
  },
  {
   "cell_type": "code",
   "execution_count": null,
   "id": "9bf4e3c4-7137-4514-8bfd-dd9fa1dd5a40",
   "metadata": {},
   "outputs": [],
   "source": [
    "b = f * N.x + g * N.y + h * N.z"
   ]
  },
  {
   "cell_type": "code",
   "execution_count": null,
   "id": "baf08e95-41d5-415f-9537-d6b03fffb37d",
   "metadata": {},
   "outputs": [
    {
     "data": {
      "text/latex": [
       "$\\displaystyle f\\mathbf{\\hat{n}_x} + g\\mathbf{\\hat{n}_y} + h\\mathbf{\\hat{n}_z}$"
      ],
      "text/plain": [
       "f*N.x + g*N.y + h*N.z"
      ]
     },
     "execution_count": null,
     "metadata": {},
     "output_type": "execute_result"
    }
   ],
   "source": [
    "b"
   ]
  },
  {
   "cell_type": "code",
   "execution_count": null,
   "id": "3ffc848f-1001-4708-9f5c-c006b60917f0",
   "metadata": {},
   "outputs": [
    {
     "data": {
      "text/latex": [
       "$\\displaystyle \\sqrt{c^{2} + d^{2} + e^{2}}$"
      ],
      "text/plain": [
       "sqrt(c**2 + d**2 + e**2)"
      ]
     },
     "execution_count": null,
     "metadata": {},
     "output_type": "execute_result"
    }
   ],
   "source": [
    "a.magnitude()"
   ]
  },
  {
   "cell_type": "code",
   "execution_count": null,
   "id": "675638ea-02c5-4cc5-9e99-9d14452d6e8a",
   "metadata": {},
   "outputs": [
    {
     "data": {
      "text/latex": [
       "$\\displaystyle (c + f)\\mathbf{\\hat{n}_x} + (d + g)\\mathbf{\\hat{n}_y} + (e + h)\\mathbf{\\hat{n}_z}$"
      ],
      "text/plain": [
       "(c + f)*N.x + (d + g)*N.y + (e + h)*N.z"
      ]
     },
     "execution_count": null,
     "metadata": {},
     "output_type": "execute_result"
    }
   ],
   "source": [
    "a + b"
   ]
  },
  {
   "cell_type": "markdown",
   "id": "c3af49bc-b444-4e42-b861-e13643bdc645",
   "metadata": {},
   "source": [
    "### Scaling"
   ]
  },
  {
   "cell_type": "code",
   "execution_count": null,
   "id": "79a7faeb-6d5b-466e-8e46-adc977f14cdf",
   "metadata": {},
   "outputs": [],
   "source": [
    "b = 2 * a"
   ]
  },
  {
   "cell_type": "code",
   "execution_count": null,
   "id": "cd1fc7f2-3f86-4a16-821c-574442f10c86",
   "metadata": {},
   "outputs": [
    {
     "data": {
      "text/latex": [
       "$\\displaystyle 2 c\\mathbf{\\hat{n}_x} + 2 d\\mathbf{\\hat{n}_y} + 2 e\\mathbf{\\hat{n}_z}$"
      ],
      "text/plain": [
       "2*c*N.x + 2*d*N.y + 2*e*N.z"
      ]
     },
     "execution_count": null,
     "metadata": {},
     "output_type": "execute_result"
    }
   ],
   "source": [
    "b"
   ]
  },
  {
   "cell_type": "code",
   "execution_count": null,
   "id": "0f85a2b6-4473-4747-92c7-aa1f3b15b81a",
   "metadata": {},
   "outputs": [],
   "source": [
    "def magnitude():\n",
    "    m1, m2, r = smp.symbols(\"m_1 m_2 r\")\n",
    "    m = m1 * m2\n",
    "    return smp.Rational(m, r**2)"
   ]
  },
  {
   "cell_type": "code",
   "execution_count": null,
   "id": "fe135a2f-132f-4d35-baed-faa9cfbdd3dc",
   "metadata": {},
   "outputs": [],
   "source": []
  }
 ],
 "metadata": {
  "kernelspec": {
   "display_name": "Python 3 (ipykernel)",
   "language": "python",
   "name": "python3"
  },
  "language_info": {
   "name": ""
  }
 },
 "nbformat": 4,
 "nbformat_minor": 5
}
